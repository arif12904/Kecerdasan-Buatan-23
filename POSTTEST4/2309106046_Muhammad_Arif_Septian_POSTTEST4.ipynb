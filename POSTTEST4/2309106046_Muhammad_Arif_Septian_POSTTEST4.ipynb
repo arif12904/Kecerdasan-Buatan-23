{
  "nbformat": 4,
  "nbformat_minor": 0,
  "metadata": {
    "colab": {
      "provenance": []
    },
    "kernelspec": {
      "name": "python3",
      "display_name": "Python 3"
    },
    "language_info": {
      "name": "python"
    }
  },
  "cells": [
    {
      "cell_type": "markdown",
      "source": [
        "### Nama: Muhammad Arif Septian <br>\n",
        "### NIM: 2309106046 <br>"
      ],
      "metadata": {
        "id": "TRWUXCAMjs7L"
      }
    },
    {
      "cell_type": "markdown",
      "source": [
        "#### **Import Libary**"
      ],
      "metadata": {
        "id": "HtN-RdotCSY4"
      }
    },
    {
      "cell_type": "code",
      "execution_count": null,
      "metadata": {
        "id": "2fVMrgJp-pFx"
      },
      "outputs": [],
      "source": [
        "import pandas as pd\n",
        "import numpy as np\n",
        "from sklearn.preprocessing import StandardScaler, MinMaxScaler\n",
        "from sklearn.model_selection import train_test_split"
      ]
    },
    {
      "cell_type": "markdown",
      "source": [
        "#### **Membaca Dataset**"
      ],
      "metadata": {
        "id": "A-uBEP9mCdbx"
      }
    },
    {
      "cell_type": "code",
      "source": [
        "# Baca dataset\n",
        "df = pd.read_csv(\"healthcare-dataset-stroke-data.csv\")"
      ],
      "metadata": {
        "id": "Rwcijddo-wx6"
      },
      "execution_count": null,
      "outputs": []
    },
    {
      "cell_type": "markdown",
      "source": [
        "#### **Cek apakah terdapat missing value, duplicate value, dan outlier**"
      ],
      "metadata": {
        "id": "Kk5FiyooCiDg"
      }
    },
    {
      "cell_type": "code",
      "source": [
        "# Cek apakah ada missing value\n",
        "df.isnull().sum()"
      ],
      "metadata": {
        "colab": {
          "base_uri": "https://localhost:8080/",
          "height": 460
        },
        "id": "pk9MHCtFDFCy",
        "outputId": "d515427e-2371-4f27-c193-85e843cf72b4"
      },
      "execution_count": null,
      "outputs": [
        {
          "output_type": "execute_result",
          "data": {
            "text/plain": [
              "id                     0\n",
              "gender                 0\n",
              "age                    0\n",
              "hypertension           0\n",
              "heart_disease          0\n",
              "ever_married           0\n",
              "work_type              0\n",
              "Residence_type         0\n",
              "avg_glucose_level      0\n",
              "bmi                  201\n",
              "smoking_status         0\n",
              "stroke                 0\n",
              "dtype: int64"
            ],
            "text/html": [
              "<div>\n",
              "<style scoped>\n",
              "    .dataframe tbody tr th:only-of-type {\n",
              "        vertical-align: middle;\n",
              "    }\n",
              "\n",
              "    .dataframe tbody tr th {\n",
              "        vertical-align: top;\n",
              "    }\n",
              "\n",
              "    .dataframe thead th {\n",
              "        text-align: right;\n",
              "    }\n",
              "</style>\n",
              "<table border=\"1\" class=\"dataframe\">\n",
              "  <thead>\n",
              "    <tr style=\"text-align: right;\">\n",
              "      <th></th>\n",
              "      <th>0</th>\n",
              "    </tr>\n",
              "  </thead>\n",
              "  <tbody>\n",
              "    <tr>\n",
              "      <th>id</th>\n",
              "      <td>0</td>\n",
              "    </tr>\n",
              "    <tr>\n",
              "      <th>gender</th>\n",
              "      <td>0</td>\n",
              "    </tr>\n",
              "    <tr>\n",
              "      <th>age</th>\n",
              "      <td>0</td>\n",
              "    </tr>\n",
              "    <tr>\n",
              "      <th>hypertension</th>\n",
              "      <td>0</td>\n",
              "    </tr>\n",
              "    <tr>\n",
              "      <th>heart_disease</th>\n",
              "      <td>0</td>\n",
              "    </tr>\n",
              "    <tr>\n",
              "      <th>ever_married</th>\n",
              "      <td>0</td>\n",
              "    </tr>\n",
              "    <tr>\n",
              "      <th>work_type</th>\n",
              "      <td>0</td>\n",
              "    </tr>\n",
              "    <tr>\n",
              "      <th>Residence_type</th>\n",
              "      <td>0</td>\n",
              "    </tr>\n",
              "    <tr>\n",
              "      <th>avg_glucose_level</th>\n",
              "      <td>0</td>\n",
              "    </tr>\n",
              "    <tr>\n",
              "      <th>bmi</th>\n",
              "      <td>201</td>\n",
              "    </tr>\n",
              "    <tr>\n",
              "      <th>smoking_status</th>\n",
              "      <td>0</td>\n",
              "    </tr>\n",
              "    <tr>\n",
              "      <th>stroke</th>\n",
              "      <td>0</td>\n",
              "    </tr>\n",
              "  </tbody>\n",
              "</table>\n",
              "</div><br><label><b>dtype:</b> int64</label>"
            ]
          },
          "metadata": {},
          "execution_count": 3
        }
      ]
    },
    {
      "cell_type": "code",
      "source": [
        "# Cek apakah ada data duplikat\n",
        "print(\"Jumlah duplikat:\", df.duplicated().sum())"
      ],
      "metadata": {
        "colab": {
          "base_uri": "https://localhost:8080/"
        },
        "id": "Zfcq07Sp-wCD",
        "outputId": "f1d2d1b7-b813-4cf2-baba-ec2607d84868"
      },
      "execution_count": null,
      "outputs": [
        {
          "output_type": "stream",
          "name": "stdout",
          "text": [
            "Jumlah duplikat: 0\n"
          ]
        }
      ]
    },
    {
      "cell_type": "code",
      "source": [
        "# Mengambil kolom numerik untuk cek outlier\n",
        "df_num = df.select_dtypes(include=[\"number\"])\n",
        "\n",
        "# Menghitung IQR\n",
        "Q1 = df_num.quantile(0.25)\n",
        "Q3 = df_num.quantile(0.75)\n",
        "IQR = Q3 - Q1\n",
        "\n",
        "# Boolean mask outlier hanya untuk numerik\n",
        "outlier_mask = ((df_num < (Q1 - 1.5 * IQR)) | (df_num > (Q3 + 1.5 * IQR)))\n",
        "\n",
        "# Menampilkan jumlah outlier\n",
        "print(\"\\nJumlah outlier per kolom:\")\n",
        "print(outlier_mask.sum())"
      ],
      "metadata": {
        "colab": {
          "base_uri": "https://localhost:8080/"
        },
        "id": "biTTbotQ_TxQ",
        "outputId": "3a49154c-c5af-41a2-afdf-e03c0a1d5ff9"
      },
      "execution_count": null,
      "outputs": [
        {
          "output_type": "stream",
          "name": "stdout",
          "text": [
            "\n",
            "Jumlah outlier per kolom:\n",
            "id                     0\n",
            "age                    0\n",
            "hypertension         498\n",
            "heart_disease        276\n",
            "avg_glucose_level    627\n",
            "bmi                  110\n",
            "stroke               249\n",
            "dtype: int64\n"
          ]
        }
      ]
    },
    {
      "cell_type": "markdown",
      "source": [
        "Berdasarkan hasil pemeriksaan kualitas data, diketahui bahwa terdapat missing value pada kolom bmi sebanyak 201 entri, sementara kolom lainnya tidak memiliki nilai kosong. Tidak ditemukan adanya data duplikat sehingga tidak perlu dilakukan penghapusan dan untuk outlier, sejumlah nilai terdeteksi pada beberapa kolom numerik yaitu hypertension (498), heart_disease (276), avg_glucose_level (627), bmi (110), serta stroke (249), di mana pada variabel biner seperti hypertension, heart_disease, dan stroke kemungkinan besar disebabkan oleh ketidakseimbangan distribusi kelas (class imbalance) sehingga masih dianggap valid, sedangkan pada avg_glucose_level dan bmi perlu dipertimbangkan apakah nilai ekstrem tersebut merupakan kesalahan input atau memang data valid yang tetap harus dipertahankan. Langkah selanjutnya adalah melakukan imputasi pada nilai kosong di kolom bmi serta membuang outlier pada kolom avg_glucose_level dan bmi agar distribusi data lebih bersih dan konsisten."
      ],
      "metadata": {
        "id": "kNHlv6bRYx3g"
      }
    },
    {
      "cell_type": "markdown",
      "source": [
        "#### **1. Data Cleaning (Handling missing value, Handling outlier)**"
      ],
      "metadata": {
        "id": "OjFWC0AeZzuL"
      }
    },
    {
      "cell_type": "code",
      "source": [
        "# Imputasi kolom bmi dengan median\n",
        "df[\"bmi\"] = df[\"bmi\"].fillna(df[\"bmi\"].median())\n",
        "\n",
        "# Cek jumlah missing value setelah imputasi\n",
        "print(\"\\nMissing value setelah imputasi:\")\n",
        "print(df.isnull().sum())"
      ],
      "metadata": {
        "colab": {
          "base_uri": "https://localhost:8080/"
        },
        "id": "sTJmRgNMai6-",
        "outputId": "f65760bb-64af-4472-fdec-68dd9e323de0"
      },
      "execution_count": null,
      "outputs": [
        {
          "output_type": "stream",
          "name": "stdout",
          "text": [
            "\n",
            "Missing value setelah imputasi:\n",
            "id                   0\n",
            "gender               0\n",
            "age                  0\n",
            "hypertension         0\n",
            "heart_disease        0\n",
            "ever_married         0\n",
            "work_type            0\n",
            "Residence_type       0\n",
            "avg_glucose_level    0\n",
            "bmi                  0\n",
            "smoking_status       0\n",
            "stroke               0\n",
            "dtype: int64\n"
          ]
        }
      ]
    },
    {
      "cell_type": "code",
      "source": [
        "kolom_outlier = [\"avg_glucose_level\", \"bmi\"]\n",
        "\n",
        "# Hitung IQR\n",
        "Q1 = df[kolom_outlier].quantile(0.25)\n",
        "Q3 = df[kolom_outlier].quantile(0.75)\n",
        "IQR = Q3 - Q1\n",
        "\n",
        "# Mask outlier\n",
        "outlier_mask = ((df[kolom_outlier] < (Q1 - 1.5 * IQR)) |\n",
        "                (df[kolom_outlier] > (Q3 + 1.5 * IQR)))\n",
        "\n",
        "print(\"Jumlah outlier per kolom sebelum dibuang:\")\n",
        "print(outlier_mask.sum())\n",
        "\n",
        "# Buang baris yang mengandung outlier\n",
        "df = df[~outlier_mask.any(axis=1)]\n",
        "\n",
        "print(\"\\nShape data setelah buang outlier:\", df.shape)"
      ],
      "metadata": {
        "colab": {
          "base_uri": "https://localhost:8080/"
        },
        "id": "hPAXcD6Iax71",
        "outputId": "39e908d1-4905-49df-edbf-5c474b7a95f3"
      },
      "execution_count": null,
      "outputs": [
        {
          "output_type": "stream",
          "name": "stdout",
          "text": [
            "Jumlah outlier per kolom sebelum dibuang:\n",
            "avg_glucose_level    627\n",
            "bmi                  126\n",
            "dtype: int64\n",
            "\n",
            "Shape data setelah buang outlier: (4391, 12)\n"
          ]
        }
      ]
    },
    {
      "cell_type": "code",
      "source": [
        "# Simpan hasil cleaning ke csv baru\n",
        "df.to_csv(\"data-clean-healthcare-dataset-stroke-data.csv\", index=False)"
      ],
      "metadata": {
        "id": "1B2M24L8coRX"
      },
      "execution_count": null,
      "outputs": []
    },
    {
      "cell_type": "markdown",
      "source": [
        "Setelah dilakukan imputasi pada kolom bmi, seluruh missing value berhasil ditangani sehingga tidak ada lagi nilai kosong pada data. Selanjutnya, dilakukan penanganan outlier dengan membuang nilai ekstrem pada kolom avg_glucose_level (627 entri) dan bmi (126 entri), sehingga data menjadi lebih bersih dan representatif. Hasilnya, jumlah baris data berkurang menjadi 4.391 entri dengan 12 kolom yang siap digunakan untuk tahap analisis atau pemodelan berikutnya. Langkah selanjutnya adalah melakukan normalisasi atau standarisasi pada kolom numerik seperti age, avg_glucose_level, dan bmi agar semua fitur berada pada skala yang sebanding, sehingga algoritma pemodelan dapat bekerja lebih optimal dan tidak bias terhadap variabel dengan rentang nilai yang lebih besar."
      ],
      "metadata": {
        "id": "ZkAmF6yYcLI3"
      }
    },
    {
      "cell_type": "markdown",
      "source": [
        "#### **2. Normalisasi/standarisasi kolom numerik**"
      ],
      "metadata": {
        "id": "CYUXWrtZcOVU"
      }
    },
    {
      "cell_type": "code",
      "source": [
        "# Baca dataset\n",
        "df = pd.read_csv(\"data-clean-healthcare-dataset-stroke-data.csv\")"
      ],
      "metadata": {
        "id": "NTRYg_TPdBWd"
      },
      "execution_count": null,
      "outputs": []
    },
    {
      "cell_type": "code",
      "source": [
        "# Standarisasi kolom age\n",
        "scaler_age = StandardScaler()\n",
        "df[\"age\"] = scaler_age.fit_transform(df[[\"age\"]])\n",
        "\n",
        "print(\"Contoh hasil standarisasi kolom age:\")\n",
        "print(df[\"age\"].head())"
      ],
      "metadata": {
        "colab": {
          "base_uri": "https://localhost:8080/"
        },
        "id": "_SAkzxAuf6bl",
        "outputId": "80946104-5efc-441b-a46a-014e6ce6f71e"
      },
      "execution_count": null,
      "outputs": [
        {
          "output_type": "stream",
          "name": "stdout",
          "text": [
            "Contoh hasil standarisasi kolom age:\n",
            "0    1.734716\n",
            "1    1.468544\n",
            "2    1.246733\n",
            "3    0.803113\n",
            "4    1.645992\n",
            "Name: age, dtype: float64\n"
          ]
        }
      ]
    },
    {
      "cell_type": "code",
      "source": [
        "# Normalisasi kolom avg_glucose_level\n",
        "scaler_glucose = MinMaxScaler()\n",
        "df[\"avg_glucose_level\"] = scaler_glucose.fit_transform(df[[\"avg_glucose_level\"]])\n",
        "\n",
        "print(\"\\nContoh hasil normalisasi kolom avg_glucose_level:\")\n",
        "print(df[\"avg_glucose_level\"].head())"
      ],
      "metadata": {
        "colab": {
          "base_uri": "https://localhost:8080/"
        },
        "id": "CtvWUn23gEkr",
        "outputId": "9c550495-f6a9-4d6b-d114-e7f7f9318c94"
      },
      "execution_count": null,
      "outputs": [
        {
          "output_type": "stream",
          "name": "stdout",
          "text": [
            "\n",
            "Contoh hasil normalisasi kolom avg_glucose_level:\n",
            "0    0.447341\n",
            "1    0.131825\n",
            "2    0.345808\n",
            "3    0.185188\n",
            "4    0.030380\n",
            "Name: avg_glucose_level, dtype: float64\n"
          ]
        }
      ]
    },
    {
      "cell_type": "code",
      "source": [
        "# Normalisasi kolom bmi\n",
        "scaler_bmi = MinMaxScaler()\n",
        "df[\"bmi\"] = scaler_bmi.fit_transform(df[[\"bmi\"]])\n",
        "\n",
        "print(\"\\nContoh hasil normalisasi kolom bmi:\")\n",
        "print(df[\"bmi\"].head())"
      ],
      "metadata": {
        "colab": {
          "base_uri": "https://localhost:8080/"
        },
        "id": "UpVAoFJGgLqE",
        "outputId": "15a3bb43-0025-4982-fc64-c661f78e8f28"
      },
      "execution_count": null,
      "outputs": [
        {
          "output_type": "stream",
          "name": "stdout",
          "text": [
            "\n",
            "Contoh hasil normalisasi kolom bmi:\n",
            "0    0.607450\n",
            "1    0.461318\n",
            "2    0.329513\n",
            "3    0.481375\n",
            "4    0.369628\n",
            "Name: bmi, dtype: float64\n"
          ]
        }
      ]
    },
    {
      "cell_type": "code",
      "source": [
        "df.to_csv(\"data-scaled-healthcare-dataset-stroke-data.csv\", index=False)"
      ],
      "metadata": {
        "id": "WQzqFEaXgcCL"
      },
      "execution_count": null,
      "outputs": []
    },
    {
      "cell_type": "markdown",
      "source": [
        "Pada tahap normalisasi, dilakukan transformasi pada kolom numerik agar berada pada skala yang sebanding dan tidak menimbulkan bias dalam pemodelan. Kolom age dinormalisasi menggunakan StandardScaler karena distribusinya cenderung mendekati normal, sehingga nilai usia diubah ke skala dengan rata-rata 0 dan standar deviasi 1. Sementara itu, kolom avg_glucose_level dan bmi dinormalisasi menggunakan Min-Max Normalization karena keduanya memiliki variasi nilai yang lebar serta distribusi yang tidak sepenuhnya normal, sehingga lebih sesuai jika disesuaikan ke rentang 0–1 agar lebih stabil. Variabel numerik lain seperti id, hypertension, heart_disease, dan stroke tidak dinormalisasi karena berfungsi sebagai identifier atau merupakan data biner yang sudah berada pada skala yang jelas."
      ],
      "metadata": {
        "id": "wGl-6euEhnBp"
      }
    },
    {
      "cell_type": "markdown",
      "source": [
        "#### **3. Encoding kolom kategorikal**"
      ],
      "metadata": {
        "id": "dzZt_fGSiQK5"
      }
    },
    {
      "cell_type": "code",
      "source": [
        "df = pd.read_csv(\"data-scaled-healthcare-dataset-stroke-data.csv\")"
      ],
      "metadata": {
        "id": "kZTg_x4XixpW"
      },
      "execution_count": null,
      "outputs": []
    },
    {
      "cell_type": "code",
      "source": [
        "# Encode gender (Male=0, Female=1, Other=2)\n",
        "df[\"gender\"] = df[\"gender\"].map({\"Male\": 0, \"Female\": 1, \"Other\": 2})\n",
        "\n",
        "# Tampilkan hanya kolom gender dari 5 baris pertama\n",
        "df[[\"gender\"]].head()\n"
      ],
      "metadata": {
        "colab": {
          "base_uri": "https://localhost:8080/",
          "height": 206
        },
        "id": "MyaoPZc9lCEw",
        "outputId": "9ed9cfb7-e9ab-4e8b-bfcf-743471df6834"
      },
      "execution_count": null,
      "outputs": [
        {
          "output_type": "execute_result",
          "data": {
            "text/plain": [
              "   gender\n",
              "0       0\n",
              "1       0\n",
              "2       1\n",
              "3       1\n",
              "4       1"
            ],
            "text/html": [
              "\n",
              "  <div id=\"df-2b3d23f4-79fd-45f8-a98d-79dde629ea3e\" class=\"colab-df-container\">\n",
              "    <div>\n",
              "<style scoped>\n",
              "    .dataframe tbody tr th:only-of-type {\n",
              "        vertical-align: middle;\n",
              "    }\n",
              "\n",
              "    .dataframe tbody tr th {\n",
              "        vertical-align: top;\n",
              "    }\n",
              "\n",
              "    .dataframe thead th {\n",
              "        text-align: right;\n",
              "    }\n",
              "</style>\n",
              "<table border=\"1\" class=\"dataframe\">\n",
              "  <thead>\n",
              "    <tr style=\"text-align: right;\">\n",
              "      <th></th>\n",
              "      <th>gender</th>\n",
              "    </tr>\n",
              "  </thead>\n",
              "  <tbody>\n",
              "    <tr>\n",
              "      <th>0</th>\n",
              "      <td>0</td>\n",
              "    </tr>\n",
              "    <tr>\n",
              "      <th>1</th>\n",
              "      <td>0</td>\n",
              "    </tr>\n",
              "    <tr>\n",
              "      <th>2</th>\n",
              "      <td>1</td>\n",
              "    </tr>\n",
              "    <tr>\n",
              "      <th>3</th>\n",
              "      <td>1</td>\n",
              "    </tr>\n",
              "    <tr>\n",
              "      <th>4</th>\n",
              "      <td>1</td>\n",
              "    </tr>\n",
              "  </tbody>\n",
              "</table>\n",
              "</div>\n",
              "    <div class=\"colab-df-buttons\">\n",
              "\n",
              "  <div class=\"colab-df-container\">\n",
              "    <button class=\"colab-df-convert\" onclick=\"convertToInteractive('df-2b3d23f4-79fd-45f8-a98d-79dde629ea3e')\"\n",
              "            title=\"Convert this dataframe to an interactive table.\"\n",
              "            style=\"display:none;\">\n",
              "\n",
              "  <svg xmlns=\"http://www.w3.org/2000/svg\" height=\"24px\" viewBox=\"0 -960 960 960\">\n",
              "    <path d=\"M120-120v-720h720v720H120Zm60-500h600v-160H180v160Zm220 220h160v-160H400v160Zm0 220h160v-160H400v160ZM180-400h160v-160H180v160Zm440 0h160v-160H620v160ZM180-180h160v-160H180v160Zm440 0h160v-160H620v160Z\"/>\n",
              "  </svg>\n",
              "    </button>\n",
              "\n",
              "  <style>\n",
              "    .colab-df-container {\n",
              "      display:flex;\n",
              "      gap: 12px;\n",
              "    }\n",
              "\n",
              "    .colab-df-convert {\n",
              "      background-color: #E8F0FE;\n",
              "      border: none;\n",
              "      border-radius: 50%;\n",
              "      cursor: pointer;\n",
              "      display: none;\n",
              "      fill: #1967D2;\n",
              "      height: 32px;\n",
              "      padding: 0 0 0 0;\n",
              "      width: 32px;\n",
              "    }\n",
              "\n",
              "    .colab-df-convert:hover {\n",
              "      background-color: #E2EBFA;\n",
              "      box-shadow: 0px 1px 2px rgba(60, 64, 67, 0.3), 0px 1px 3px 1px rgba(60, 64, 67, 0.15);\n",
              "      fill: #174EA6;\n",
              "    }\n",
              "\n",
              "    .colab-df-buttons div {\n",
              "      margin-bottom: 4px;\n",
              "    }\n",
              "\n",
              "    [theme=dark] .colab-df-convert {\n",
              "      background-color: #3B4455;\n",
              "      fill: #D2E3FC;\n",
              "    }\n",
              "\n",
              "    [theme=dark] .colab-df-convert:hover {\n",
              "      background-color: #434B5C;\n",
              "      box-shadow: 0px 1px 3px 1px rgba(0, 0, 0, 0.15);\n",
              "      filter: drop-shadow(0px 1px 2px rgba(0, 0, 0, 0.3));\n",
              "      fill: #FFFFFF;\n",
              "    }\n",
              "  </style>\n",
              "\n",
              "    <script>\n",
              "      const buttonEl =\n",
              "        document.querySelector('#df-2b3d23f4-79fd-45f8-a98d-79dde629ea3e button.colab-df-convert');\n",
              "      buttonEl.style.display =\n",
              "        google.colab.kernel.accessAllowed ? 'block' : 'none';\n",
              "\n",
              "      async function convertToInteractive(key) {\n",
              "        const element = document.querySelector('#df-2b3d23f4-79fd-45f8-a98d-79dde629ea3e');\n",
              "        const dataTable =\n",
              "          await google.colab.kernel.invokeFunction('convertToInteractive',\n",
              "                                                    [key], {});\n",
              "        if (!dataTable) return;\n",
              "\n",
              "        const docLinkHtml = 'Like what you see? Visit the ' +\n",
              "          '<a target=\"_blank\" href=https://colab.research.google.com/notebooks/data_table.ipynb>data table notebook</a>'\n",
              "          + ' to learn more about interactive tables.';\n",
              "        element.innerHTML = '';\n",
              "        dataTable['output_type'] = 'display_data';\n",
              "        await google.colab.output.renderOutput(dataTable, element);\n",
              "        const docLink = document.createElement('div');\n",
              "        docLink.innerHTML = docLinkHtml;\n",
              "        element.appendChild(docLink);\n",
              "      }\n",
              "    </script>\n",
              "  </div>\n",
              "\n",
              "\n",
              "    <div id=\"df-2b78780b-083c-42ef-bcab-6985d3803dfa\">\n",
              "      <button class=\"colab-df-quickchart\" onclick=\"quickchart('df-2b78780b-083c-42ef-bcab-6985d3803dfa')\"\n",
              "                title=\"Suggest charts\"\n",
              "                style=\"display:none;\">\n",
              "\n",
              "<svg xmlns=\"http://www.w3.org/2000/svg\" height=\"24px\"viewBox=\"0 0 24 24\"\n",
              "     width=\"24px\">\n",
              "    <g>\n",
              "        <path d=\"M19 3H5c-1.1 0-2 .9-2 2v14c0 1.1.9 2 2 2h14c1.1 0 2-.9 2-2V5c0-1.1-.9-2-2-2zM9 17H7v-7h2v7zm4 0h-2V7h2v10zm4 0h-2v-4h2v4z\"/>\n",
              "    </g>\n",
              "</svg>\n",
              "      </button>\n",
              "\n",
              "<style>\n",
              "  .colab-df-quickchart {\n",
              "      --bg-color: #E8F0FE;\n",
              "      --fill-color: #1967D2;\n",
              "      --hover-bg-color: #E2EBFA;\n",
              "      --hover-fill-color: #174EA6;\n",
              "      --disabled-fill-color: #AAA;\n",
              "      --disabled-bg-color: #DDD;\n",
              "  }\n",
              "\n",
              "  [theme=dark] .colab-df-quickchart {\n",
              "      --bg-color: #3B4455;\n",
              "      --fill-color: #D2E3FC;\n",
              "      --hover-bg-color: #434B5C;\n",
              "      --hover-fill-color: #FFFFFF;\n",
              "      --disabled-bg-color: #3B4455;\n",
              "      --disabled-fill-color: #666;\n",
              "  }\n",
              "\n",
              "  .colab-df-quickchart {\n",
              "    background-color: var(--bg-color);\n",
              "    border: none;\n",
              "    border-radius: 50%;\n",
              "    cursor: pointer;\n",
              "    display: none;\n",
              "    fill: var(--fill-color);\n",
              "    height: 32px;\n",
              "    padding: 0;\n",
              "    width: 32px;\n",
              "  }\n",
              "\n",
              "  .colab-df-quickchart:hover {\n",
              "    background-color: var(--hover-bg-color);\n",
              "    box-shadow: 0 1px 2px rgba(60, 64, 67, 0.3), 0 1px 3px 1px rgba(60, 64, 67, 0.15);\n",
              "    fill: var(--button-hover-fill-color);\n",
              "  }\n",
              "\n",
              "  .colab-df-quickchart-complete:disabled,\n",
              "  .colab-df-quickchart-complete:disabled:hover {\n",
              "    background-color: var(--disabled-bg-color);\n",
              "    fill: var(--disabled-fill-color);\n",
              "    box-shadow: none;\n",
              "  }\n",
              "\n",
              "  .colab-df-spinner {\n",
              "    border: 2px solid var(--fill-color);\n",
              "    border-color: transparent;\n",
              "    border-bottom-color: var(--fill-color);\n",
              "    animation:\n",
              "      spin 1s steps(1) infinite;\n",
              "  }\n",
              "\n",
              "  @keyframes spin {\n",
              "    0% {\n",
              "      border-color: transparent;\n",
              "      border-bottom-color: var(--fill-color);\n",
              "      border-left-color: var(--fill-color);\n",
              "    }\n",
              "    20% {\n",
              "      border-color: transparent;\n",
              "      border-left-color: var(--fill-color);\n",
              "      border-top-color: var(--fill-color);\n",
              "    }\n",
              "    30% {\n",
              "      border-color: transparent;\n",
              "      border-left-color: var(--fill-color);\n",
              "      border-top-color: var(--fill-color);\n",
              "      border-right-color: var(--fill-color);\n",
              "    }\n",
              "    40% {\n",
              "      border-color: transparent;\n",
              "      border-right-color: var(--fill-color);\n",
              "      border-top-color: var(--fill-color);\n",
              "    }\n",
              "    60% {\n",
              "      border-color: transparent;\n",
              "      border-right-color: var(--fill-color);\n",
              "    }\n",
              "    80% {\n",
              "      border-color: transparent;\n",
              "      border-right-color: var(--fill-color);\n",
              "      border-bottom-color: var(--fill-color);\n",
              "    }\n",
              "    90% {\n",
              "      border-color: transparent;\n",
              "      border-bottom-color: var(--fill-color);\n",
              "    }\n",
              "  }\n",
              "</style>\n",
              "\n",
              "      <script>\n",
              "        async function quickchart(key) {\n",
              "          const quickchartButtonEl =\n",
              "            document.querySelector('#' + key + ' button');\n",
              "          quickchartButtonEl.disabled = true;  // To prevent multiple clicks.\n",
              "          quickchartButtonEl.classList.add('colab-df-spinner');\n",
              "          try {\n",
              "            const charts = await google.colab.kernel.invokeFunction(\n",
              "                'suggestCharts', [key], {});\n",
              "          } catch (error) {\n",
              "            console.error('Error during call to suggestCharts:', error);\n",
              "          }\n",
              "          quickchartButtonEl.classList.remove('colab-df-spinner');\n",
              "          quickchartButtonEl.classList.add('colab-df-quickchart-complete');\n",
              "        }\n",
              "        (() => {\n",
              "          let quickchartButtonEl =\n",
              "            document.querySelector('#df-2b78780b-083c-42ef-bcab-6985d3803dfa button');\n",
              "          quickchartButtonEl.style.display =\n",
              "            google.colab.kernel.accessAllowed ? 'block' : 'none';\n",
              "        })();\n",
              "      </script>\n",
              "    </div>\n",
              "\n",
              "    </div>\n",
              "  </div>\n"
            ],
            "application/vnd.google.colaboratory.intrinsic+json": {
              "type": "dataframe",
              "summary": "{\n  \"name\": \"df[[\\\"gender\\\"]]\",\n  \"rows\": 5,\n  \"fields\": [\n    {\n      \"column\": \"gender\",\n      \"properties\": {\n        \"dtype\": \"number\",\n        \"std\": 0,\n        \"min\": 0,\n        \"max\": 1,\n        \"num_unique_values\": 2,\n        \"samples\": [\n          1,\n          0\n        ],\n        \"semantic_type\": \"\",\n        \"description\": \"\"\n      }\n    }\n  ]\n}"
            }
          },
          "metadata": {},
          "execution_count": 15
        }
      ]
    },
    {
      "cell_type": "code",
      "source": [
        "# Encode ever_married (No=0, Yes=1)\n",
        "df[\"ever_married\"] = df[\"ever_married\"].map({\"No\": 0, \"Yes\": 1})\n",
        "\n",
        "df[\"ever_married\"].head()"
      ],
      "metadata": {
        "colab": {
          "base_uri": "https://localhost:8080/",
          "height": 241
        },
        "id": "uLD5x1rglC3y",
        "outputId": "f188c2b9-f4e2-4202-cf0f-d873d41b0add"
      },
      "execution_count": null,
      "outputs": [
        {
          "output_type": "execute_result",
          "data": {
            "text/plain": [
              "0    1\n",
              "1    1\n",
              "2    0\n",
              "3    1\n",
              "4    1\n",
              "Name: ever_married, dtype: int64"
            ],
            "text/html": [
              "<div>\n",
              "<style scoped>\n",
              "    .dataframe tbody tr th:only-of-type {\n",
              "        vertical-align: middle;\n",
              "    }\n",
              "\n",
              "    .dataframe tbody tr th {\n",
              "        vertical-align: top;\n",
              "    }\n",
              "\n",
              "    .dataframe thead th {\n",
              "        text-align: right;\n",
              "    }\n",
              "</style>\n",
              "<table border=\"1\" class=\"dataframe\">\n",
              "  <thead>\n",
              "    <tr style=\"text-align: right;\">\n",
              "      <th></th>\n",
              "      <th>ever_married</th>\n",
              "    </tr>\n",
              "  </thead>\n",
              "  <tbody>\n",
              "    <tr>\n",
              "      <th>0</th>\n",
              "      <td>1</td>\n",
              "    </tr>\n",
              "    <tr>\n",
              "      <th>1</th>\n",
              "      <td>1</td>\n",
              "    </tr>\n",
              "    <tr>\n",
              "      <th>2</th>\n",
              "      <td>0</td>\n",
              "    </tr>\n",
              "    <tr>\n",
              "      <th>3</th>\n",
              "      <td>1</td>\n",
              "    </tr>\n",
              "    <tr>\n",
              "      <th>4</th>\n",
              "      <td>1</td>\n",
              "    </tr>\n",
              "  </tbody>\n",
              "</table>\n",
              "</div><br><label><b>dtype:</b> int64</label>"
            ]
          },
          "metadata": {},
          "execution_count": 16
        }
      ]
    },
    {
      "cell_type": "code",
      "source": [
        "# Encode work_type (Private=0, Self-employed=1, Govt_job=2, children=3, Never_worked=4)\n",
        "df[\"work_type\"] = df[\"work_type\"].map({\n",
        "    \"Private\": 0,\n",
        "    \"Self-employed\": 1,\n",
        "    \"Govt_job\": 2,\n",
        "    \"children\": 3,\n",
        "    \"Never_worked\": 4\n",
        "})\n",
        "\n",
        "print(df[\"work_type\"].unique())"
      ],
      "metadata": {
        "colab": {
          "base_uri": "https://localhost:8080/"
        },
        "id": "qyp3zHbRlHNa",
        "outputId": "12d2d437-1c9e-42a4-eecc-2ebaebef6f6a"
      },
      "execution_count": null,
      "outputs": [
        {
          "output_type": "stream",
          "name": "stdout",
          "text": [
            "[0 2 1 3 4]\n"
          ]
        }
      ]
    },
    {
      "cell_type": "code",
      "source": [
        "# Encode Residence_type (Urban=0, Rural=1)\n",
        "df[\"Residence_type\"] = df[\"Residence_type\"].map({\"Urban\": 0, \"Rural\": 1})\n",
        "\n",
        "df[\"Residence_type\"].head()"
      ],
      "metadata": {
        "colab": {
          "base_uri": "https://localhost:8080/",
          "height": 241
        },
        "id": "8pIkIrmSlMFq",
        "outputId": "7201050a-8e11-4633-ac5f-1ce03581da25"
      },
      "execution_count": null,
      "outputs": [
        {
          "output_type": "execute_result",
          "data": {
            "text/plain": [
              "0    1\n",
              "1    1\n",
              "2    0\n",
              "3    1\n",
              "4    0\n",
              "Name: Residence_type, dtype: int64"
            ],
            "text/html": [
              "<div>\n",
              "<style scoped>\n",
              "    .dataframe tbody tr th:only-of-type {\n",
              "        vertical-align: middle;\n",
              "    }\n",
              "\n",
              "    .dataframe tbody tr th {\n",
              "        vertical-align: top;\n",
              "    }\n",
              "\n",
              "    .dataframe thead th {\n",
              "        text-align: right;\n",
              "    }\n",
              "</style>\n",
              "<table border=\"1\" class=\"dataframe\">\n",
              "  <thead>\n",
              "    <tr style=\"text-align: right;\">\n",
              "      <th></th>\n",
              "      <th>Residence_type</th>\n",
              "    </tr>\n",
              "  </thead>\n",
              "  <tbody>\n",
              "    <tr>\n",
              "      <th>0</th>\n",
              "      <td>1</td>\n",
              "    </tr>\n",
              "    <tr>\n",
              "      <th>1</th>\n",
              "      <td>1</td>\n",
              "    </tr>\n",
              "    <tr>\n",
              "      <th>2</th>\n",
              "      <td>0</td>\n",
              "    </tr>\n",
              "    <tr>\n",
              "      <th>3</th>\n",
              "      <td>1</td>\n",
              "    </tr>\n",
              "    <tr>\n",
              "      <th>4</th>\n",
              "      <td>0</td>\n",
              "    </tr>\n",
              "  </tbody>\n",
              "</table>\n",
              "</div><br><label><b>dtype:</b> int64</label>"
            ]
          },
          "metadata": {},
          "execution_count": 18
        }
      ]
    },
    {
      "cell_type": "code",
      "source": [
        "# Encode smoking_status (never smoked=0, formerly smoked=1, smokes=2, Unknown=3)\n",
        "df[\"smoking_status\"] = df[\"smoking_status\"].map({\n",
        "    \"never smoked\": 0,\n",
        "    \"formerly smoked\": 1,\n",
        "    \"smokes\": 2,\n",
        "    \"Unknown\": 3\n",
        "})\n",
        "\n",
        "df[\"smoking_status\"].unique()"
      ],
      "metadata": {
        "colab": {
          "base_uri": "https://localhost:8080/"
        },
        "id": "B8rXSkvLlN49",
        "outputId": "45ba2b11-71c6-4272-8015-056797a2085f"
      },
      "execution_count": null,
      "outputs": [
        {
          "output_type": "execute_result",
          "data": {
            "text/plain": [
              "array([0, 3, 2, 1])"
            ]
          },
          "metadata": {},
          "execution_count": 19
        }
      ]
    },
    {
      "cell_type": "code",
      "source": [
        "# Simpan hasil encode ke file baru\n",
        "df.to_csv(\"data-encoded-healthcare-dataset-stroke-data.csv\", index=False)\n",
        "print(\"Encoding selesai dan file disimpan.\")"
      ],
      "metadata": {
        "id": "lLBnhD5Di78F",
        "colab": {
          "base_uri": "https://localhost:8080/"
        },
        "outputId": "593b4a92-23a7-46c7-d4a2-ed0080aea3d7"
      },
      "execution_count": null,
      "outputs": [
        {
          "output_type": "stream",
          "name": "stdout",
          "text": [
            "Encoding selesai dan file disimpan.\n"
          ]
        }
      ]
    },
    {
      "cell_type": "markdown",
      "source": [
        "Proses encoding dilakukan pada seluruh kolom kategorikal agar dapat diubah menjadi bentuk numerik dan digunakan dalam pemodelan machine learning. Kolom gender dikonversi menjadi Male = 0, Female = 1, dan Other = 2. Kolom ever_married menjadi No = 0 dan Yes = 1. Kolom work_type menjadi Private = 0, Self-employed = 1, Govt_job = 2, children = 3, dan Never_worked = 4. Kolom Residence_type menjadi Urban = 0 dan Rural = 1. Kolom smoking_status menjadi never smoked = 0, formerly smoked = 1, smokes = 2, dan Unknown = 3. Perubahan ke bentuk numerik ini diperlukan karena algoritma machine learning umumnya hanya dapat mengolah data dalam format angka sehingga dengan encoding, variabel kategorikal dapat dipahami model tanpa menghilangkan informasi yang terkandung di dalamnya."
      ],
      "metadata": {
        "id": "A5k90WHnmquT"
      }
    },
    {
      "cell_type": "markdown",
      "source": [
        "#### **4. Feature engineering**"
      ],
      "metadata": {
        "id": "gCOCt8fVrw0_"
      }
    },
    {
      "cell_type": "code",
      "source": [
        "df = pd.read_csv(\"data-encoded-healthcare-dataset-stroke-data.csv\")"
      ],
      "metadata": {
        "id": "_PMvGNLVmsUw"
      },
      "execution_count": null,
      "outputs": []
    },
    {
      "cell_type": "code",
      "source": [
        "# Membuat kategori berdasarkan hipertensi\n",
        "df['Hypertension_Status'] = df['hypertension'].map({0: 'No', 1: 'Yes'})\n",
        "\n",
        "# Lihat hasil\n",
        "df[['hypertension', 'Hypertension_Status']].head()\n"
      ],
      "metadata": {
        "colab": {
          "base_uri": "https://localhost:8080/",
          "height": 206
        },
        "id": "2wfvPyk6r4Cz",
        "outputId": "9c300582-11b9-4c0b-faff-e1a819d7bf5b"
      },
      "execution_count": null,
      "outputs": [
        {
          "output_type": "execute_result",
          "data": {
            "text/plain": [
              "   hypertension Hypertension_Status\n",
              "0             0                  No\n",
              "1             1                 Yes\n",
              "2             0                  No\n",
              "3             0                  No\n",
              "4             0                  No"
            ],
            "text/html": [
              "\n",
              "  <div id=\"df-651f2195-f755-4d99-9582-843c1a935558\" class=\"colab-df-container\">\n",
              "    <div>\n",
              "<style scoped>\n",
              "    .dataframe tbody tr th:only-of-type {\n",
              "        vertical-align: middle;\n",
              "    }\n",
              "\n",
              "    .dataframe tbody tr th {\n",
              "        vertical-align: top;\n",
              "    }\n",
              "\n",
              "    .dataframe thead th {\n",
              "        text-align: right;\n",
              "    }\n",
              "</style>\n",
              "<table border=\"1\" class=\"dataframe\">\n",
              "  <thead>\n",
              "    <tr style=\"text-align: right;\">\n",
              "      <th></th>\n",
              "      <th>hypertension</th>\n",
              "      <th>Hypertension_Status</th>\n",
              "    </tr>\n",
              "  </thead>\n",
              "  <tbody>\n",
              "    <tr>\n",
              "      <th>0</th>\n",
              "      <td>0</td>\n",
              "      <td>No</td>\n",
              "    </tr>\n",
              "    <tr>\n",
              "      <th>1</th>\n",
              "      <td>1</td>\n",
              "      <td>Yes</td>\n",
              "    </tr>\n",
              "    <tr>\n",
              "      <th>2</th>\n",
              "      <td>0</td>\n",
              "      <td>No</td>\n",
              "    </tr>\n",
              "    <tr>\n",
              "      <th>3</th>\n",
              "      <td>0</td>\n",
              "      <td>No</td>\n",
              "    </tr>\n",
              "    <tr>\n",
              "      <th>4</th>\n",
              "      <td>0</td>\n",
              "      <td>No</td>\n",
              "    </tr>\n",
              "  </tbody>\n",
              "</table>\n",
              "</div>\n",
              "    <div class=\"colab-df-buttons\">\n",
              "\n",
              "  <div class=\"colab-df-container\">\n",
              "    <button class=\"colab-df-convert\" onclick=\"convertToInteractive('df-651f2195-f755-4d99-9582-843c1a935558')\"\n",
              "            title=\"Convert this dataframe to an interactive table.\"\n",
              "            style=\"display:none;\">\n",
              "\n",
              "  <svg xmlns=\"http://www.w3.org/2000/svg\" height=\"24px\" viewBox=\"0 -960 960 960\">\n",
              "    <path d=\"M120-120v-720h720v720H120Zm60-500h600v-160H180v160Zm220 220h160v-160H400v160Zm0 220h160v-160H400v160ZM180-400h160v-160H180v160Zm440 0h160v-160H620v160ZM180-180h160v-160H180v160Zm440 0h160v-160H620v160Z\"/>\n",
              "  </svg>\n",
              "    </button>\n",
              "\n",
              "  <style>\n",
              "    .colab-df-container {\n",
              "      display:flex;\n",
              "      gap: 12px;\n",
              "    }\n",
              "\n",
              "    .colab-df-convert {\n",
              "      background-color: #E8F0FE;\n",
              "      border: none;\n",
              "      border-radius: 50%;\n",
              "      cursor: pointer;\n",
              "      display: none;\n",
              "      fill: #1967D2;\n",
              "      height: 32px;\n",
              "      padding: 0 0 0 0;\n",
              "      width: 32px;\n",
              "    }\n",
              "\n",
              "    .colab-df-convert:hover {\n",
              "      background-color: #E2EBFA;\n",
              "      box-shadow: 0px 1px 2px rgba(60, 64, 67, 0.3), 0px 1px 3px 1px rgba(60, 64, 67, 0.15);\n",
              "      fill: #174EA6;\n",
              "    }\n",
              "\n",
              "    .colab-df-buttons div {\n",
              "      margin-bottom: 4px;\n",
              "    }\n",
              "\n",
              "    [theme=dark] .colab-df-convert {\n",
              "      background-color: #3B4455;\n",
              "      fill: #D2E3FC;\n",
              "    }\n",
              "\n",
              "    [theme=dark] .colab-df-convert:hover {\n",
              "      background-color: #434B5C;\n",
              "      box-shadow: 0px 1px 3px 1px rgba(0, 0, 0, 0.15);\n",
              "      filter: drop-shadow(0px 1px 2px rgba(0, 0, 0, 0.3));\n",
              "      fill: #FFFFFF;\n",
              "    }\n",
              "  </style>\n",
              "\n",
              "    <script>\n",
              "      const buttonEl =\n",
              "        document.querySelector('#df-651f2195-f755-4d99-9582-843c1a935558 button.colab-df-convert');\n",
              "      buttonEl.style.display =\n",
              "        google.colab.kernel.accessAllowed ? 'block' : 'none';\n",
              "\n",
              "      async function convertToInteractive(key) {\n",
              "        const element = document.querySelector('#df-651f2195-f755-4d99-9582-843c1a935558');\n",
              "        const dataTable =\n",
              "          await google.colab.kernel.invokeFunction('convertToInteractive',\n",
              "                                                    [key], {});\n",
              "        if (!dataTable) return;\n",
              "\n",
              "        const docLinkHtml = 'Like what you see? Visit the ' +\n",
              "          '<a target=\"_blank\" href=https://colab.research.google.com/notebooks/data_table.ipynb>data table notebook</a>'\n",
              "          + ' to learn more about interactive tables.';\n",
              "        element.innerHTML = '';\n",
              "        dataTable['output_type'] = 'display_data';\n",
              "        await google.colab.output.renderOutput(dataTable, element);\n",
              "        const docLink = document.createElement('div');\n",
              "        docLink.innerHTML = docLinkHtml;\n",
              "        element.appendChild(docLink);\n",
              "      }\n",
              "    </script>\n",
              "  </div>\n",
              "\n",
              "\n",
              "    <div id=\"df-eb822c05-a1fb-4647-940c-27346453287d\">\n",
              "      <button class=\"colab-df-quickchart\" onclick=\"quickchart('df-eb822c05-a1fb-4647-940c-27346453287d')\"\n",
              "                title=\"Suggest charts\"\n",
              "                style=\"display:none;\">\n",
              "\n",
              "<svg xmlns=\"http://www.w3.org/2000/svg\" height=\"24px\"viewBox=\"0 0 24 24\"\n",
              "     width=\"24px\">\n",
              "    <g>\n",
              "        <path d=\"M19 3H5c-1.1 0-2 .9-2 2v14c0 1.1.9 2 2 2h14c1.1 0 2-.9 2-2V5c0-1.1-.9-2-2-2zM9 17H7v-7h2v7zm4 0h-2V7h2v10zm4 0h-2v-4h2v4z\"/>\n",
              "    </g>\n",
              "</svg>\n",
              "      </button>\n",
              "\n",
              "<style>\n",
              "  .colab-df-quickchart {\n",
              "      --bg-color: #E8F0FE;\n",
              "      --fill-color: #1967D2;\n",
              "      --hover-bg-color: #E2EBFA;\n",
              "      --hover-fill-color: #174EA6;\n",
              "      --disabled-fill-color: #AAA;\n",
              "      --disabled-bg-color: #DDD;\n",
              "  }\n",
              "\n",
              "  [theme=dark] .colab-df-quickchart {\n",
              "      --bg-color: #3B4455;\n",
              "      --fill-color: #D2E3FC;\n",
              "      --hover-bg-color: #434B5C;\n",
              "      --hover-fill-color: #FFFFFF;\n",
              "      --disabled-bg-color: #3B4455;\n",
              "      --disabled-fill-color: #666;\n",
              "  }\n",
              "\n",
              "  .colab-df-quickchart {\n",
              "    background-color: var(--bg-color);\n",
              "    border: none;\n",
              "    border-radius: 50%;\n",
              "    cursor: pointer;\n",
              "    display: none;\n",
              "    fill: var(--fill-color);\n",
              "    height: 32px;\n",
              "    padding: 0;\n",
              "    width: 32px;\n",
              "  }\n",
              "\n",
              "  .colab-df-quickchart:hover {\n",
              "    background-color: var(--hover-bg-color);\n",
              "    box-shadow: 0 1px 2px rgba(60, 64, 67, 0.3), 0 1px 3px 1px rgba(60, 64, 67, 0.15);\n",
              "    fill: var(--button-hover-fill-color);\n",
              "  }\n",
              "\n",
              "  .colab-df-quickchart-complete:disabled,\n",
              "  .colab-df-quickchart-complete:disabled:hover {\n",
              "    background-color: var(--disabled-bg-color);\n",
              "    fill: var(--disabled-fill-color);\n",
              "    box-shadow: none;\n",
              "  }\n",
              "\n",
              "  .colab-df-spinner {\n",
              "    border: 2px solid var(--fill-color);\n",
              "    border-color: transparent;\n",
              "    border-bottom-color: var(--fill-color);\n",
              "    animation:\n",
              "      spin 1s steps(1) infinite;\n",
              "  }\n",
              "\n",
              "  @keyframes spin {\n",
              "    0% {\n",
              "      border-color: transparent;\n",
              "      border-bottom-color: var(--fill-color);\n",
              "      border-left-color: var(--fill-color);\n",
              "    }\n",
              "    20% {\n",
              "      border-color: transparent;\n",
              "      border-left-color: var(--fill-color);\n",
              "      border-top-color: var(--fill-color);\n",
              "    }\n",
              "    30% {\n",
              "      border-color: transparent;\n",
              "      border-left-color: var(--fill-color);\n",
              "      border-top-color: var(--fill-color);\n",
              "      border-right-color: var(--fill-color);\n",
              "    }\n",
              "    40% {\n",
              "      border-color: transparent;\n",
              "      border-right-color: var(--fill-color);\n",
              "      border-top-color: var(--fill-color);\n",
              "    }\n",
              "    60% {\n",
              "      border-color: transparent;\n",
              "      border-right-color: var(--fill-color);\n",
              "    }\n",
              "    80% {\n",
              "      border-color: transparent;\n",
              "      border-right-color: var(--fill-color);\n",
              "      border-bottom-color: var(--fill-color);\n",
              "    }\n",
              "    90% {\n",
              "      border-color: transparent;\n",
              "      border-bottom-color: var(--fill-color);\n",
              "    }\n",
              "  }\n",
              "</style>\n",
              "\n",
              "      <script>\n",
              "        async function quickchart(key) {\n",
              "          const quickchartButtonEl =\n",
              "            document.querySelector('#' + key + ' button');\n",
              "          quickchartButtonEl.disabled = true;  // To prevent multiple clicks.\n",
              "          quickchartButtonEl.classList.add('colab-df-spinner');\n",
              "          try {\n",
              "            const charts = await google.colab.kernel.invokeFunction(\n",
              "                'suggestCharts', [key], {});\n",
              "          } catch (error) {\n",
              "            console.error('Error during call to suggestCharts:', error);\n",
              "          }\n",
              "          quickchartButtonEl.classList.remove('colab-df-spinner');\n",
              "          quickchartButtonEl.classList.add('colab-df-quickchart-complete');\n",
              "        }\n",
              "        (() => {\n",
              "          let quickchartButtonEl =\n",
              "            document.querySelector('#df-eb822c05-a1fb-4647-940c-27346453287d button');\n",
              "          quickchartButtonEl.style.display =\n",
              "            google.colab.kernel.accessAllowed ? 'block' : 'none';\n",
              "        })();\n",
              "      </script>\n",
              "    </div>\n",
              "\n",
              "    </div>\n",
              "  </div>\n"
            ],
            "application/vnd.google.colaboratory.intrinsic+json": {
              "type": "dataframe",
              "summary": "{\n  \"name\": \"df[['hypertension', 'Hypertension_Status']]\",\n  \"rows\": 5,\n  \"fields\": [\n    {\n      \"column\": \"hypertension\",\n      \"properties\": {\n        \"dtype\": \"number\",\n        \"std\": 0,\n        \"min\": 0,\n        \"max\": 1,\n        \"num_unique_values\": 2,\n        \"samples\": [\n          1,\n          0\n        ],\n        \"semantic_type\": \"\",\n        \"description\": \"\"\n      }\n    },\n    {\n      \"column\": \"Hypertension_Status\",\n      \"properties\": {\n        \"dtype\": \"category\",\n        \"num_unique_values\": 2,\n        \"samples\": [\n          \"Yes\",\n          \"No\"\n        ],\n        \"semantic_type\": \"\",\n        \"description\": \"\"\n      }\n    }\n  ]\n}"
            }
          },
          "metadata": {},
          "execution_count": 22
        }
      ]
    },
    {
      "cell_type": "code",
      "source": [
        "# Membuat kategori berdasarkan penyakit jantung\n",
        "df['Heart_Disease_Status'] = df['heart_disease'].map({0: 'No', 1: 'Yes'})\n",
        "\n",
        "# Lihat hasil\n",
        "df[['heart_disease', 'Heart_Disease_Status']].head()\n"
      ],
      "metadata": {
        "colab": {
          "base_uri": "https://localhost:8080/",
          "height": 206
        },
        "id": "HjTiWUz3r8Za",
        "outputId": "4ff3ad75-17d7-4823-f5f8-a9af3941722c"
      },
      "execution_count": null,
      "outputs": [
        {
          "output_type": "execute_result",
          "data": {
            "text/plain": [
              "   heart_disease Heart_Disease_Status\n",
              "0              1                  Yes\n",
              "1              1                  Yes\n",
              "2              0                   No\n",
              "3              0                   No\n",
              "4              0                   No"
            ],
            "text/html": [
              "\n",
              "  <div id=\"df-88f0a1ed-77f1-4f95-abe1-53c7296fae3a\" class=\"colab-df-container\">\n",
              "    <div>\n",
              "<style scoped>\n",
              "    .dataframe tbody tr th:only-of-type {\n",
              "        vertical-align: middle;\n",
              "    }\n",
              "\n",
              "    .dataframe tbody tr th {\n",
              "        vertical-align: top;\n",
              "    }\n",
              "\n",
              "    .dataframe thead th {\n",
              "        text-align: right;\n",
              "    }\n",
              "</style>\n",
              "<table border=\"1\" class=\"dataframe\">\n",
              "  <thead>\n",
              "    <tr style=\"text-align: right;\">\n",
              "      <th></th>\n",
              "      <th>heart_disease</th>\n",
              "      <th>Heart_Disease_Status</th>\n",
              "    </tr>\n",
              "  </thead>\n",
              "  <tbody>\n",
              "    <tr>\n",
              "      <th>0</th>\n",
              "      <td>1</td>\n",
              "      <td>Yes</td>\n",
              "    </tr>\n",
              "    <tr>\n",
              "      <th>1</th>\n",
              "      <td>1</td>\n",
              "      <td>Yes</td>\n",
              "    </tr>\n",
              "    <tr>\n",
              "      <th>2</th>\n",
              "      <td>0</td>\n",
              "      <td>No</td>\n",
              "    </tr>\n",
              "    <tr>\n",
              "      <th>3</th>\n",
              "      <td>0</td>\n",
              "      <td>No</td>\n",
              "    </tr>\n",
              "    <tr>\n",
              "      <th>4</th>\n",
              "      <td>0</td>\n",
              "      <td>No</td>\n",
              "    </tr>\n",
              "  </tbody>\n",
              "</table>\n",
              "</div>\n",
              "    <div class=\"colab-df-buttons\">\n",
              "\n",
              "  <div class=\"colab-df-container\">\n",
              "    <button class=\"colab-df-convert\" onclick=\"convertToInteractive('df-88f0a1ed-77f1-4f95-abe1-53c7296fae3a')\"\n",
              "            title=\"Convert this dataframe to an interactive table.\"\n",
              "            style=\"display:none;\">\n",
              "\n",
              "  <svg xmlns=\"http://www.w3.org/2000/svg\" height=\"24px\" viewBox=\"0 -960 960 960\">\n",
              "    <path d=\"M120-120v-720h720v720H120Zm60-500h600v-160H180v160Zm220 220h160v-160H400v160Zm0 220h160v-160H400v160ZM180-400h160v-160H180v160Zm440 0h160v-160H620v160ZM180-180h160v-160H180v160Zm440 0h160v-160H620v160Z\"/>\n",
              "  </svg>\n",
              "    </button>\n",
              "\n",
              "  <style>\n",
              "    .colab-df-container {\n",
              "      display:flex;\n",
              "      gap: 12px;\n",
              "    }\n",
              "\n",
              "    .colab-df-convert {\n",
              "      background-color: #E8F0FE;\n",
              "      border: none;\n",
              "      border-radius: 50%;\n",
              "      cursor: pointer;\n",
              "      display: none;\n",
              "      fill: #1967D2;\n",
              "      height: 32px;\n",
              "      padding: 0 0 0 0;\n",
              "      width: 32px;\n",
              "    }\n",
              "\n",
              "    .colab-df-convert:hover {\n",
              "      background-color: #E2EBFA;\n",
              "      box-shadow: 0px 1px 2px rgba(60, 64, 67, 0.3), 0px 1px 3px 1px rgba(60, 64, 67, 0.15);\n",
              "      fill: #174EA6;\n",
              "    }\n",
              "\n",
              "    .colab-df-buttons div {\n",
              "      margin-bottom: 4px;\n",
              "    }\n",
              "\n",
              "    [theme=dark] .colab-df-convert {\n",
              "      background-color: #3B4455;\n",
              "      fill: #D2E3FC;\n",
              "    }\n",
              "\n",
              "    [theme=dark] .colab-df-convert:hover {\n",
              "      background-color: #434B5C;\n",
              "      box-shadow: 0px 1px 3px 1px rgba(0, 0, 0, 0.15);\n",
              "      filter: drop-shadow(0px 1px 2px rgba(0, 0, 0, 0.3));\n",
              "      fill: #FFFFFF;\n",
              "    }\n",
              "  </style>\n",
              "\n",
              "    <script>\n",
              "      const buttonEl =\n",
              "        document.querySelector('#df-88f0a1ed-77f1-4f95-abe1-53c7296fae3a button.colab-df-convert');\n",
              "      buttonEl.style.display =\n",
              "        google.colab.kernel.accessAllowed ? 'block' : 'none';\n",
              "\n",
              "      async function convertToInteractive(key) {\n",
              "        const element = document.querySelector('#df-88f0a1ed-77f1-4f95-abe1-53c7296fae3a');\n",
              "        const dataTable =\n",
              "          await google.colab.kernel.invokeFunction('convertToInteractive',\n",
              "                                                    [key], {});\n",
              "        if (!dataTable) return;\n",
              "\n",
              "        const docLinkHtml = 'Like what you see? Visit the ' +\n",
              "          '<a target=\"_blank\" href=https://colab.research.google.com/notebooks/data_table.ipynb>data table notebook</a>'\n",
              "          + ' to learn more about interactive tables.';\n",
              "        element.innerHTML = '';\n",
              "        dataTable['output_type'] = 'display_data';\n",
              "        await google.colab.output.renderOutput(dataTable, element);\n",
              "        const docLink = document.createElement('div');\n",
              "        docLink.innerHTML = docLinkHtml;\n",
              "        element.appendChild(docLink);\n",
              "      }\n",
              "    </script>\n",
              "  </div>\n",
              "\n",
              "\n",
              "    <div id=\"df-a39f0b08-57a8-4361-baf7-61da75b09c72\">\n",
              "      <button class=\"colab-df-quickchart\" onclick=\"quickchart('df-a39f0b08-57a8-4361-baf7-61da75b09c72')\"\n",
              "                title=\"Suggest charts\"\n",
              "                style=\"display:none;\">\n",
              "\n",
              "<svg xmlns=\"http://www.w3.org/2000/svg\" height=\"24px\"viewBox=\"0 0 24 24\"\n",
              "     width=\"24px\">\n",
              "    <g>\n",
              "        <path d=\"M19 3H5c-1.1 0-2 .9-2 2v14c0 1.1.9 2 2 2h14c1.1 0 2-.9 2-2V5c0-1.1-.9-2-2-2zM9 17H7v-7h2v7zm4 0h-2V7h2v10zm4 0h-2v-4h2v4z\"/>\n",
              "    </g>\n",
              "</svg>\n",
              "      </button>\n",
              "\n",
              "<style>\n",
              "  .colab-df-quickchart {\n",
              "      --bg-color: #E8F0FE;\n",
              "      --fill-color: #1967D2;\n",
              "      --hover-bg-color: #E2EBFA;\n",
              "      --hover-fill-color: #174EA6;\n",
              "      --disabled-fill-color: #AAA;\n",
              "      --disabled-bg-color: #DDD;\n",
              "  }\n",
              "\n",
              "  [theme=dark] .colab-df-quickchart {\n",
              "      --bg-color: #3B4455;\n",
              "      --fill-color: #D2E3FC;\n",
              "      --hover-bg-color: #434B5C;\n",
              "      --hover-fill-color: #FFFFFF;\n",
              "      --disabled-bg-color: #3B4455;\n",
              "      --disabled-fill-color: #666;\n",
              "  }\n",
              "\n",
              "  .colab-df-quickchart {\n",
              "    background-color: var(--bg-color);\n",
              "    border: none;\n",
              "    border-radius: 50%;\n",
              "    cursor: pointer;\n",
              "    display: none;\n",
              "    fill: var(--fill-color);\n",
              "    height: 32px;\n",
              "    padding: 0;\n",
              "    width: 32px;\n",
              "  }\n",
              "\n",
              "  .colab-df-quickchart:hover {\n",
              "    background-color: var(--hover-bg-color);\n",
              "    box-shadow: 0 1px 2px rgba(60, 64, 67, 0.3), 0 1px 3px 1px rgba(60, 64, 67, 0.15);\n",
              "    fill: var(--button-hover-fill-color);\n",
              "  }\n",
              "\n",
              "  .colab-df-quickchart-complete:disabled,\n",
              "  .colab-df-quickchart-complete:disabled:hover {\n",
              "    background-color: var(--disabled-bg-color);\n",
              "    fill: var(--disabled-fill-color);\n",
              "    box-shadow: none;\n",
              "  }\n",
              "\n",
              "  .colab-df-spinner {\n",
              "    border: 2px solid var(--fill-color);\n",
              "    border-color: transparent;\n",
              "    border-bottom-color: var(--fill-color);\n",
              "    animation:\n",
              "      spin 1s steps(1) infinite;\n",
              "  }\n",
              "\n",
              "  @keyframes spin {\n",
              "    0% {\n",
              "      border-color: transparent;\n",
              "      border-bottom-color: var(--fill-color);\n",
              "      border-left-color: var(--fill-color);\n",
              "    }\n",
              "    20% {\n",
              "      border-color: transparent;\n",
              "      border-left-color: var(--fill-color);\n",
              "      border-top-color: var(--fill-color);\n",
              "    }\n",
              "    30% {\n",
              "      border-color: transparent;\n",
              "      border-left-color: var(--fill-color);\n",
              "      border-top-color: var(--fill-color);\n",
              "      border-right-color: var(--fill-color);\n",
              "    }\n",
              "    40% {\n",
              "      border-color: transparent;\n",
              "      border-right-color: var(--fill-color);\n",
              "      border-top-color: var(--fill-color);\n",
              "    }\n",
              "    60% {\n",
              "      border-color: transparent;\n",
              "      border-right-color: var(--fill-color);\n",
              "    }\n",
              "    80% {\n",
              "      border-color: transparent;\n",
              "      border-right-color: var(--fill-color);\n",
              "      border-bottom-color: var(--fill-color);\n",
              "    }\n",
              "    90% {\n",
              "      border-color: transparent;\n",
              "      border-bottom-color: var(--fill-color);\n",
              "    }\n",
              "  }\n",
              "</style>\n",
              "\n",
              "      <script>\n",
              "        async function quickchart(key) {\n",
              "          const quickchartButtonEl =\n",
              "            document.querySelector('#' + key + ' button');\n",
              "          quickchartButtonEl.disabled = true;  // To prevent multiple clicks.\n",
              "          quickchartButtonEl.classList.add('colab-df-spinner');\n",
              "          try {\n",
              "            const charts = await google.colab.kernel.invokeFunction(\n",
              "                'suggestCharts', [key], {});\n",
              "          } catch (error) {\n",
              "            console.error('Error during call to suggestCharts:', error);\n",
              "          }\n",
              "          quickchartButtonEl.classList.remove('colab-df-spinner');\n",
              "          quickchartButtonEl.classList.add('colab-df-quickchart-complete');\n",
              "        }\n",
              "        (() => {\n",
              "          let quickchartButtonEl =\n",
              "            document.querySelector('#df-a39f0b08-57a8-4361-baf7-61da75b09c72 button');\n",
              "          quickchartButtonEl.style.display =\n",
              "            google.colab.kernel.accessAllowed ? 'block' : 'none';\n",
              "        })();\n",
              "      </script>\n",
              "    </div>\n",
              "\n",
              "    </div>\n",
              "  </div>\n"
            ],
            "application/vnd.google.colaboratory.intrinsic+json": {
              "type": "dataframe",
              "summary": "{\n  \"name\": \"df[['heart_disease', 'Heart_Disease_Status']]\",\n  \"rows\": 5,\n  \"fields\": [\n    {\n      \"column\": \"heart_disease\",\n      \"properties\": {\n        \"dtype\": \"number\",\n        \"std\": 0,\n        \"min\": 0,\n        \"max\": 1,\n        \"num_unique_values\": 2,\n        \"samples\": [\n          0,\n          1\n        ],\n        \"semantic_type\": \"\",\n        \"description\": \"\"\n      }\n    },\n    {\n      \"column\": \"Heart_Disease_Status\",\n      \"properties\": {\n        \"dtype\": \"category\",\n        \"num_unique_values\": 2,\n        \"samples\": [\n          \"No\",\n          \"Yes\"\n        ],\n        \"semantic_type\": \"\",\n        \"description\": \"\"\n      }\n    }\n  ]\n}"
            }
          },
          "metadata": {},
          "execution_count": 23
        }
      ]
    },
    {
      "cell_type": "code",
      "source": [
        "# Simpan dataset hasil feature engineering\n",
        "df.to_csv(\"data-feature-engineered-healthcare-dataset-stroke-data.csv\", index=False)\n",
        "print(\"Dataset dengan feature engineering sudah disimpan.\")"
      ],
      "metadata": {
        "id": "Ohkl7A7FsARI",
        "outputId": "00297115-7f6e-4693-ce50-01e3560e31e1",
        "colab": {
          "base_uri": "https://localhost:8080/"
        }
      },
      "execution_count": null,
      "outputs": [
        {
          "output_type": "stream",
          "name": "stdout",
          "text": [
            "Dataset dengan feature engineering sudah disimpan.\n"
          ]
        }
      ]
    },
    {
      "cell_type": "markdown",
      "source": [
        "Proses feature engineering pada kolom hypertension dan heart_disease dilakukan dengan menambahkan kolom kategori Hypertension_Status dan Heart_Disease_Status yang mengubah nilai numerik 0/1 menjadi “No”/“Yes”. Perubahan ini bertujuan untuk mempermudah interpretasi dan visualisasi data saat analisis eksplorasi, tanpa mengubah nilai asli yang tetap bisa digunakan dalam pemodelan machine learning."
      ],
      "metadata": {
        "id": "_MnBkFDAzalJ"
      }
    },
    {
      "cell_type": "markdown",
      "source": [
        "### POSTTEST4 <br>\n",
        "- Muhammad Arif Septian <br>\n",
        "- 2309106046"
      ],
      "metadata": {
        "id": "kgGn4H82mYVN"
      }
    },
    {
      "cell_type": "markdown",
      "source": [
        "#### **5. Splitting data ke dalam data training & data testing**"
      ],
      "metadata": {
        "id": "7V5wcLpazcFz"
      }
    },
    {
      "cell_type": "markdown",
      "source": [
        "### Import Libary"
      ],
      "metadata": {
        "id": "0C0-8qgIm29q"
      }
    },
    {
      "cell_type": "code",
      "source": [
        "from sklearn.preprocessing import StandardScaler\n",
        "from sklearn.svm import SVC\n",
        "from sklearn.metrics import confusion_matrix, classification_report\n",
        "import matplotlib.pyplot as plt\n",
        "import seaborn as sns\n",
        "from sklearn.ensemble import RandomForestClassifier\n",
        "from sklearn.metrics import confusion_matrix, ConfusionMatrixDisplay, classification_report\n",
        "import matplotlib.pyplot as plt"
      ],
      "metadata": {
        "id": "3O3iyVyUm52t"
      },
      "execution_count": 41,
      "outputs": []
    },
    {
      "cell_type": "code",
      "source": [
        "# Baca CSV\n",
        "df = pd.read_csv(\"data-feature-engineered-healthcare-dataset-stroke-data.csv\")"
      ],
      "metadata": {
        "id": "Z7XjPgnSzbUx"
      },
      "execution_count": 42,
      "outputs": []
    },
    {
      "cell_type": "code",
      "source": [
        "# target kolom 'stroke'\n",
        "target = 'stroke'\n",
        "\n",
        "# Fitur (X) = semua kolom kecuali target\n",
        "X = df.drop(target, axis=1)\n",
        "y = df[target]\n",
        "\n",
        "# Split data: 80% training, 20% testing\n",
        "# stratify=y supaya proporsi target tetap sama di train & test\n",
        "X_train, X_test, y_train, y_test = train_test_split(\n",
        "    X, y,\n",
        "    test_size=0.2,       # 20% data untuk testing\n",
        "    random_state=42,     # supaya hasil bisa direproduksi\n",
        "    stratify=y           # menjaga proporsi kelas target\n",
        ")\n",
        "\n",
        "# Cek ukuran data\n",
        "print(\"Ukuran X_train:\", X_train.shape)\n",
        "print(\"Ukuran X_test :\", X_test.shape)\n",
        "print(\"Ukuran y_train:\", y_train.shape)\n",
        "print(\"Ukuran y_test :\", y_test.shape)"
      ],
      "metadata": {
        "colab": {
          "base_uri": "https://localhost:8080/"
        },
        "id": "shrPro9V0OTk",
        "outputId": "17ba9c05-7119-4405-e804-af54585b493c"
      },
      "execution_count": 43,
      "outputs": [
        {
          "output_type": "stream",
          "name": "stdout",
          "text": [
            "Ukuran X_train: (3512, 13)\n",
            "Ukuran X_test : (879, 13)\n",
            "Ukuran y_train: (3512,)\n",
            "Ukuran y_test : (879,)\n"
          ]
        }
      ]
    },
    {
      "cell_type": "markdown",
      "source": [
        "Pemisahan data menjadi training dan testing dilakukan agar model machine learning dapat belajar dari sebagian data (training) dan dievaluasi pada data yang belum pernah dilihat (testing), sehingga performa model lebih realistis dan tidak bias. Penggunaan stratify memastikan proporsi kelas target tetap seimbang di kedua set, mencegah model terlatih hanya pada kelas mayoritas. Pembagian ini juga memungkinkan validasi performa model sebelum digunakan untuk prediksi pada data baru."
      ],
      "metadata": {
        "id": "ek4RWFHe1XiL"
      }
    },
    {
      "cell_type": "code",
      "source": [
        "# --- Pisahkan kolom numerik dan kategorikal ---\n",
        "num_cols = X_train.select_dtypes(include=['int64', 'float64']).columns\n",
        "cat_cols = X_train.select_dtypes(exclude=['int64', 'float64']).columns\n",
        "\n",
        "# Standarisasi hanya kolom numerik\n",
        "scaler = StandardScaler()\n",
        "X_train_scaled_num = scaler.fit_transform(X_train[num_cols])\n",
        "X_test_scaled_num = scaler.transform(X_test[num_cols])\n",
        "\n",
        "# Kembalikan ke bentuk DataFrame\n",
        "X_train_scaled = pd.DataFrame(X_train_scaled_num, columns=num_cols, index=X_train.index)\n",
        "X_test_scaled = pd.DataFrame(X_test_scaled_num, columns=num_cols, index=X_test.index)\n",
        "\n",
        "# Gabungkan kembali dengan kolom kategorikal tanpa di-scale\n",
        "X_train_final = pd.concat([X_train_scaled, X_train[cat_cols]], axis=1)\n",
        "X_test_final = pd.concat([X_test_scaled, X_test[cat_cols]], axis=1)\n",
        "\n",
        "# Ubah kolom kategorikal jadi numerik\n",
        "X_train_final = pd.get_dummies(X_train_final, drop_first=True)\n",
        "X_test_final = pd.get_dummies(X_test_final, drop_first=True)\n",
        "\n",
        "X_test_final = X_test_final.reindex(columns=X_train_final.columns, fill_value=0)\n"
      ],
      "metadata": {
        "id": "fTRCehbU0fd3"
      },
      "execution_count": 44,
      "outputs": []
    },
    {
      "cell_type": "markdown",
      "source": [
        "#### Implementasi SVM"
      ],
      "metadata": {
        "id": "Oajr3BDCm_L2"
      }
    },
    {
      "cell_type": "code",
      "source": [
        "# Model SVM\n",
        "svm_model = SVC(kernel='rbf', random_state=42)\n",
        "svm_model.fit(X_train_final, y_train)\n",
        "y_pred_svm = svm_model.predict(X_test_final)"
      ],
      "metadata": {
        "id": "4KR64L8KnHT3"
      },
      "execution_count": 45,
      "outputs": []
    },
    {
      "cell_type": "markdown",
      "source": [
        "Pemilihan SVM (Support Vector Machine) dilakukan karena label yang diprediksi adalah stroke, yaitu kasus biner (0 = tidak stroke, 1 = stroke) yang membutuhkan pemisahan kelas secara tegas. SVM sangat cocok untuk jenis masalah ini karena algoritma ini berfokus mencari hyperplane terbaik yang memisahkan dua kelas dengan margin maksimal, sehingga dapat mendeteksi perbedaan halus antara individu yang berisiko dan tidak berisiko stroke. Selain itu, kernel RBF digunakan karena mampu menangani pola hubungan yang non-linear, yang umum terjadi pada data medis di mana faktor-faktor penyebab stroke tidak selalu memiliki hubungan linier satu sama lain. Dengan kata lain, SVM dipilih karena kemampuannya memberikan klasifikasi yang presisi dan robust pada dataset biner dengan pola kompleks seperti prediksi stroke."
      ],
      "metadata": {
        "id": "zKSDRAKC0QuU"
      }
    },
    {
      "cell_type": "markdown",
      "source": [
        "#### Implementasi Random Forest"
      ],
      "metadata": {
        "id": "TSlYWcOcrVh8"
      }
    },
    {
      "cell_type": "code",
      "source": [
        "# Model Random Forest\n",
        "rf_model = RandomForestClassifier(n_estimators=100, random_state=42, max_depth=None)\n",
        "rf_model.fit(X_train_final, y_train)\n",
        "y_pred_rf = rf_model.predict(X_test_final)"
      ],
      "metadata": {
        "id": "rSUaSWCNrZqp"
      },
      "execution_count": 46,
      "outputs": []
    },
    {
      "cell_type": "markdown",
      "source": [
        "Pemilihan Random Forest dilakukan karena model ini mampu menangani data dengan kombinasi fitur numerik dan kategorikal secara alami tanpa perlu asumsi linearitas. Dalam kasus prediksi stroke, hubungan antarvariabel seperti tekanan darah, usia, riwayat penyakit, dan gaya hidup sering kali bersifat kompleks serta melibatkan interaksi antarfitur. Random Forest, yang merupakan kumpulan dari banyak pohon keputusan (ensemble of decision trees), dapat menangkap hubungan non-linear dan interaksi tersebut dengan baik. Selain itu, model ini tahan terhadap overfitting, memberikan interpretasi melalui fitur penting (feature importance), serta cenderung memiliki performa stabil meskipun terdapat data yang tidak seimbang seperti kasus stroke yang biasanya lebih jarang dibanding non-stroke."
      ],
      "metadata": {
        "id": "Snht0Vwn0uzs"
      }
    },
    {
      "cell_type": "markdown",
      "source": [
        "### A2. Hasil prediksi harus dievaluasi masing-masing:"
      ],
      "metadata": {
        "id": "gD7rH9JdxCPR"
      }
    },
    {
      "cell_type": "markdown",
      "source": [
        "#### Evaluasi Model SVM"
      ],
      "metadata": {
        "id": "QlpgbpisxK8i"
      }
    },
    {
      "cell_type": "code",
      "source": [
        "# Buat confusion matrix\n",
        "cm = confusion_matrix(y_test, y_pred_svm)\n",
        "\n",
        "# Menampilkan confusion Matriz\n",
        "disp = ConfusionMatrixDisplay(confusion_matrix=cm)\n",
        "disp.plot(cmap='Blues')\n",
        "plt.title(\"Confusion Matrix - SVM Classifier\")\n",
        "plt.show()\n",
        "\n",
        "# Menampilkan Klasifikasi Report\n",
        "print(\"=== Evaluasi: SVM Classifier ===\")\n",
        "print(classification_report(y_test, y_pred_svm))"
      ],
      "metadata": {
        "colab": {
          "base_uri": "https://localhost:8080/",
          "height": 770
        },
        "id": "rW-GUjrKqj4f",
        "outputId": "c6fb116b-8e50-48b9-b4bb-853a2d0e951c"
      },
      "execution_count": 47,
      "outputs": [
        {
          "output_type": "display_data",
          "data": {
            "text/plain": [
              "<Figure size 640x480 with 2 Axes>"
            ],
            "image/png": "[encoded data removed]"
          },
          "metadata": {}
        },
        {
          "output_type": "stream",
          "name": "stdout",
          "text": [
            "=== Evaluasi: SVM Classifier ===\n",
            "              precision    recall  f1-score   support\n",
            "\n",
            "           0       0.96      1.00      0.98       846\n",
            "           1       0.00      0.00      0.00        33\n",
            "\n",
            "    accuracy                           0.96       879\n",
            "   macro avg       0.48      0.50      0.49       879\n",
            "weighted avg       0.93      0.96      0.94       879\n",
            "\n"
          ]
        },
        {
          "output_type": "stream",
          "name": "stderr",
          "text": [
            "/usr/local/lib/python3.12/dist-packages/sklearn/metrics/_classification.py:1565: UndefinedMetricWarning: Precision is ill-defined and being set to 0.0 in labels with no predicted samples. Use `zero_division` parameter to control this behavior.\n",
            "  _warn_prf(average, modifier, f\"{metric.capitalize()} is\", len(result))\n",
            "/usr/local/lib/python3.12/dist-packages/sklearn/metrics/_classification.py:1565: UndefinedMetricWarning: Precision is ill-defined and being set to 0.0 in labels with no predicted samples. Use `zero_division` parameter to control this behavior.\n",
            "  _warn_prf(average, modifier, f\"{metric.capitalize()} is\", len(result))\n",
            "/usr/local/lib/python3.12/dist-packages/sklearn/metrics/_classification.py:1565: UndefinedMetricWarning: Precision is ill-defined and being set to 0.0 in labels with no predicted samples. Use `zero_division` parameter to control this behavior.\n",
            "  _warn_prf(average, modifier, f\"{metric.capitalize()} is\", len(result))\n"
          ]
        }
      ]
    },
    {
      "cell_type": "markdown",
      "source": [
        "Hasil evaluasi menunjukkan bahwa model SVM Classifier memiliki akurasi tinggi sebesar 96%, namun performanya tidak seimbang karena hanya mampu mengenali kelas non-stroke (label 0) dengan sempurna, sedangkan kelas stroke (label 1) sama sekali tidak terdeteksi. Hal ini terlihat dari confusion matrix yang memperlihatkan 33 kasus stroke semuanya salah diklasifikasikan sebagai non-stroke. Kondisi ini biasanya terjadi karena ketidakseimbangan data (imbalanced dataset), di mana jumlah data non-stroke jauh lebih banyak daripada stroke, sehingga model cenderung “bermain aman” dengan selalu memprediksi kelas mayoritas. Akibatnya, meskipun akurasi terlihat tinggi, recall dan precision untuk kelas stroke = 0, yang berarti model gagal mendeteksi kasus stroke secara efektif."
      ],
      "metadata": {
        "id": "x8U7lyK30-Q-"
      }
    },
    {
      "cell_type": "markdown",
      "source": [
        "#### Evaluasi Model Random Forest"
      ],
      "metadata": {
        "id": "vUBpCpfAxdjX"
      }
    },
    {
      "cell_type": "code",
      "source": [
        "# Buat confusion matrix\n",
        "cm = confusion_matrix(y_test, y_pred_rf)\n",
        "\n",
        "# Menampilkan confusion Matriz\n",
        "disp = ConfusionMatrixDisplay(confusion_matrix=cm)\n",
        "disp.plot(cmap='Blues')\n",
        "plt.title(\"Confusion Matrix - Random Forest\")\n",
        "plt.show()\n",
        "\n",
        "# Menampilkan Klasifikasi Report\n",
        "print(\"=== Evaluasi: Random Forest ===\")\n",
        "print(classification_report(y_test, y_pred_rf))"
      ],
      "metadata": {
        "colab": {
          "base_uri": "https://localhost:8080/",
          "height": 770
        },
        "id": "97dybC25xk_X",
        "outputId": "4bf6ff7c-62c6-4b2e-dc5f-91a549bc7664"
      },
      "execution_count": 48,
      "outputs": [
        {
          "output_type": "display_data",
          "data": {
            "text/plain": [
              "<Figure size 640x480 with 2 Axes>"
            ],
            "image/png": "[encoded data removed]"
          },
          "metadata": {}
        },
        {
          "output_type": "stream",
          "name": "stdout",
          "text": [
            "=== Evaluasi: Random Forest ===\n",
            "              precision    recall  f1-score   support\n",
            "\n",
            "           0       0.96      1.00      0.98       846\n",
            "           1       0.00      0.00      0.00        33\n",
            "\n",
            "    accuracy                           0.96       879\n",
            "   macro avg       0.48      0.50      0.49       879\n",
            "weighted avg       0.93      0.96      0.94       879\n",
            "\n"
          ]
        },
        {
          "output_type": "stream",
          "name": "stderr",
          "text": [
            "/usr/local/lib/python3.12/dist-packages/sklearn/metrics/_classification.py:1565: UndefinedMetricWarning: Precision is ill-defined and being set to 0.0 in labels with no predicted samples. Use `zero_division` parameter to control this behavior.\n",
            "  _warn_prf(average, modifier, f\"{metric.capitalize()} is\", len(result))\n",
            "/usr/local/lib/python3.12/dist-packages/sklearn/metrics/_classification.py:1565: UndefinedMetricWarning: Precision is ill-defined and being set to 0.0 in labels with no predicted samples. Use `zero_division` parameter to control this behavior.\n",
            "  _warn_prf(average, modifier, f\"{metric.capitalize()} is\", len(result))\n",
            "/usr/local/lib/python3.12/dist-packages/sklearn/metrics/_classification.py:1565: UndefinedMetricWarning: Precision is ill-defined and being set to 0.0 in labels with no predicted samples. Use `zero_division` parameter to control this behavior.\n",
            "  _warn_prf(average, modifier, f\"{metric.capitalize()} is\", len(result))\n"
          ]
        }
      ]
    },
    {
      "cell_type": "markdown",
      "source": [
        "Hasil evaluasi model Random Forest menunjukkan pola yang sama seperti SVM, dengan akurasi tinggi yaitu 96%, namun tidak mampu mendeteksi satupun kasus stroke (label 1). Berdasarkan confusion matrix, semua data stroke diklasifikasikan sebagai non-stroke (label 0). Hal ini menandakan bahwa model terlalu bias terhadap kelas mayoritas akibat ketidakseimbangan data, di mana jumlah data non-stroke jauh lebih dominan. Meskipun Random Forest biasanya lebih tangguh terhadap noise dan outlier, performa model tetap menurun jika proporsi kelas sangat timpang. Akibatnya, meskipun akurasi terlihat baik, nilai precision, recall, dan f1-score untuk kelas stroke bernilai 0, menandakan bahwa model gagal mengidentifikasi pasien yang berisiko stroke secara benar."
      ],
      "metadata": {
        "id": "A1wwmCDg1K98"
      }
    },
    {
      "cell_type": "markdown",
      "source": [
        "### Buat plot untuk hasil prediksi-nya"
      ],
      "metadata": {
        "id": "zc_iVdEyx3PC"
      }
    },
    {
      "cell_type": "code",
      "source": [
        "fig, axes = plt.subplots(1, 2, figsize=(14, 6))\n",
        "\n",
        "# Membuat plot untuk hasil prediksi svm\n",
        "axes[0].scatter(range(len(y_test)), y_test, color='blue', label='Actual', alpha=0.8, s=60)\n",
        "axes[0].scatter(range(len(y_test)), y_pred_svm, color='red', label='Predicted (SVM)', alpha=0.5, s=50)\n",
        "axes[0].set_title(\"Hasil Prediksi SVM vs Data Aktual\", fontsize=13, fontweight='bold')\n",
        "axes[0].set_xlabel(\"Index Data\", fontsize=11)\n",
        "axes[0].set_ylabel(\"Label Kelas\", fontsize=11)\n",
        "axes[0].legend(title=\"Keterangan\", fontsize=9)\n",
        "axes[0].grid(True, linestyle='--', alpha=0.4)\n",
        "\n",
        "# Membuat plot untuk hasil prediksi random forest\n",
        "axes[1].scatter(range(len(y_test)), y_test, color='blue', label='Actual', alpha=0.8, s=60)\n",
        "axes[1].scatter(range(len(y_test)), y_pred_rf, color='green', label='Predicted (Random Forest)', alpha=0.5, s=50)\n",
        "axes[1].set_title(\"Hasil Prediksi Random Forest vs Data Aktual\", fontsize=13, fontweight='bold')\n",
        "axes[1].set_xlabel(\"Index Data\", fontsize=11)\n",
        "axes[1].set_ylabel(\"Label Kelas\", fontsize=11)\n",
        "axes[1].legend(title=\"Keterangan\", fontsize=9)\n",
        "axes[1].grid(True, linestyle='--', alpha=0.4)\n",
        "\n",
        "plt.tight_layout()\n",
        "plt.show()\n"
      ],
      "metadata": {
        "colab": {
          "base_uri": "https://localhost:8080/",
          "height": 473
        },
        "id": "fI-4b6rcyT20",
        "outputId": "fcb949d4-4376-402b-ad6c-6a8549800b86"
      },
      "execution_count": 49,
      "outputs": [
        {
          "output_type": "display_data",
          "data": {
            "text/plain": [
              "<Figure size 1400x600 with 2 Axes>"
            ],
            "image/png": "[encoded data removed]"
          },
          "metadata": {}
        }
      ]
    },
    {
      "cell_type": "markdown",
      "source": [
        "Dari plot tersebut, terlihat bahwa kedua model, SVM dan Random Forest, sama-sama mengalami kesulitan dalam memprediksi kelas minoritas (label 1) karena hampir seluruh prediksi berada di kelas mayoritas (label 0), sehingga meskipun label 0 terprediksi dengan benar, label 1 hampir tidak terdeteksi; hal ini mengindikasikan adanya masalah ketidakseimbangan kelas pada dataset yang menyebabkan kedua model bias ke kelas mayoritas, meskipun akurasi keseluruhan terlihat tinggi, performa untuk kelas minoritas sangat rendah."
      ],
      "metadata": {
        "id": "gM4ggqr-1cRD"
      }
    }
  ]
}